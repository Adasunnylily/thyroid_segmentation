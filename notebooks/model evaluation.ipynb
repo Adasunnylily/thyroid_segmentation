{
 "cells": [
  {
   "cell_type": "code",
   "execution_count": null,
   "metadata": {
    "collapsed": true
   },
   "outputs": [],
   "source": [
    "from func.data_fn import *\n",
    "from func.objectives_ import *\n",
    "from func.models import *\n",
    "from func.data_fn import *\n",
    "from func.evaluation import *\n",
    "import numpy as np\n",
    "import tensorflow as tf\n",
    "import os\n",
    "from time import time\n",
    "from tqdm import tqdm\n",
    "\n",
    "os.environ['TF_CPP_MIN_LOG_LEVEL'] = '3' "
   ]
  },
  {
   "cell_type": "code",
   "execution_count": null,
   "metadata": {
    "collapsed": true
   },
   "outputs": [],
   "source": [
    "wt_path = 'output/densenet_500/weights/' #'final_weights/densenet_500/'\n",
    "# Define the model\n",
    "#  model = unet2d_general(320, 448, init_filt=32, padding='same',\n",
    "#          dropout=0.0, batchnorm=False, dilation=[1,1])\n",
    "model = dilated_densenet3(height=None, width=None, channels=1, classes=2, features=24, depth=4,\n",
    "                        temperature=1.0, padding='same', batchnorm=True,\n",
    "                        dropout=0.1)\n",
    "\n",
    "folder_names = os.listdir('../data/images/')\n",
    "dice_vals = []\n",
    "t=time()\n",
    "for iter_model in range(6,8):\n",
    "    val_index = [iter_model*2,iter_model*2+1]\n",
    "    model.load_weights(wt_path+'wt'+str(iter_model)+'.h5')\n",
    "    for folder_index in val_index:\n",
    "        folder = folder_names[folder_index][:-4]\n",
    "        a=evaluate_test_folder(model, None, '../data/data_images/'+folder+'/', postproc=False, n_window=0)\n",
    "        print a\n",
    "        dice_vals.append(a)\n",
    "with open('postproc_results/zeropad.txt', 'w') as f:\n",
    "    f.write(str(dice_vals))\n",
    "print time()-t\n",
    "print dice_vals"
   ]
  }
 ],
 "metadata": {
  "kernelspec": {
   "display_name": "Python 2",
   "language": "python",
   "name": "python2"
  },
  "language_info": {
   "codemirror_mode": {
    "name": "ipython",
    "version": 2
   },
   "file_extension": ".py",
   "mimetype": "text/x-python",
   "name": "python",
   "nbconvert_exporter": "python",
   "pygments_lexer": "ipython2",
   "version": "2.7.14"
  }
 },
 "nbformat": 4,
 "nbformat_minor": 2
}
